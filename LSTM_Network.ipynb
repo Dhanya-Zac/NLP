{
  "nbformat": 4,
  "nbformat_minor": 0,
  "metadata": {
    "colab": {
      "provenance": [],
      "authorship_tag": "ABX9TyManN54ljOpp5XlL2N4B5rI",
      "include_colab_link": true
    },
    "kernelspec": {
      "name": "python3",
      "display_name": "Python 3"
    },
    "language_info": {
      "name": "python"
    }
  },
  "cells": [
    {
      "cell_type": "markdown",
      "metadata": {
        "id": "view-in-github",
        "colab_type": "text"
      },
      "source": [
        "<a href=\"https://colab.research.google.com/github/Dhanya-Zac/NLP/blob/main/LSTM_Network.ipynb\" target=\"_parent\"><img src=\"https://colab.research.google.com/assets/colab-badge.svg\" alt=\"Open In Colab\"/></a>"
      ]
    },
    {
      "cell_type": "code",
      "source": [
        "from tensorflow.keras.preprocessing.text import Tokenizer"
      ],
      "metadata": {
        "id": "CdivtDX8R2-b"
      },
      "execution_count": 3,
      "outputs": []
    },
    {
      "cell_type": "code",
      "source": [
        "import numpy as np"
      ],
      "metadata": {
        "id": "gjaOamDvUgFi"
      },
      "execution_count": 12,
      "outputs": []
    },
    {
      "cell_type": "code",
      "source": [
        "#Sample documents\n",
        "documents=[\" This is the first document.\",\"This document is the second document.\",\"And this is the third one.\",\"Is this the first document?\"]"
      ],
      "metadata": {
        "id": "BgtwX9k1HS7-"
      },
      "execution_count": 5,
      "outputs": []
    },
    {
      "cell_type": "markdown",
      "source": [
        "Binary classification for sentiment analysis using LSTM"
      ],
      "metadata": {
        "id": "42J1VIpAPzuH"
      }
    },
    {
      "cell_type": "code",
      "source": [
        "labels=np.array([1,0,1,0]) #1 for positive, 0 for negative\n",
        "#tokenize the texts\n",
        "tokenizer=Tokenizer()\n",
        "#Computers and machine learning models can't directly understand text. Tokenization converts text into numerical data\n",
        "tokenizer.fit_on_texts(documents)\n",
        "word_index=tokenizer.word_index\n",
        "vocab_size=len(word_index)+1\n"
      ],
      "metadata": {
        "id": "A_Ps_GZjP6Ao"
      },
      "execution_count": 14,
      "outputs": []
    },
    {
      "cell_type": "code",
      "source": [
        "#convert texts to sequences\n",
        "sequences=tokenizer.texts_to_sequences(documents)"
      ],
      "metadata": {
        "id": "PVzZfnsDPrhk"
      },
      "execution_count": 15,
      "outputs": []
    },
    {
      "cell_type": "code",
      "source": [
        "from tensorflow.keras.preprocessing.sequence import pad_sequences\n",
        "from tensorflow.keras.models import Sequential\n",
        "from tensorflow.keras.layers import Embedding, LSTM, Dense"
      ],
      "metadata": {
        "id": "e7geU4oYUDm5"
      },
      "execution_count": 16,
      "outputs": []
    },
    {
      "cell_type": "code",
      "source": [
        "#pad sequences to make equal length\n",
        "max_length=max(len(seq) for seq in sequences)\n",
        "padded_sequences=pad_sequences(sequences,maxlen=max_length,padding='post')"
      ],
      "metadata": {
        "id": "CqLHwCR-SVsn"
      },
      "execution_count": 17,
      "outputs": []
    },
    {
      "cell_type": "code",
      "source": [
        "# Build the LSTM model\n",
        "model = Sequential()\n",
        "model.add(Embedding(vocab_size, 16))#, input_length=max_length))\n",
        "model.add(LSTM(32))\n",
        "model.add(Dense(1, activation='sigmoid'))\n",
        "\n",
        "# Compile the model\n",
        "model.compile(optimizer='adam', loss='binary_crossentropy', metrics=['accuracy'])\n",
        "\n",
        "# Fit the model\n",
        "model.fit(padded_sequences, labels, epochs=10, verbose=1)"
      ],
      "metadata": {
        "colab": {
          "base_uri": "https://localhost:8080/"
        },
        "id": "CWCTjc8lT9gW",
        "outputId": "b5c38924-0cc3-42ec-d8d0-ea043b5c409f"
      },
      "execution_count": 18,
      "outputs": [
        {
          "output_type": "stream",
          "name": "stdout",
          "text": [
            "Epoch 1/10\n",
            "\u001b[1m1/1\u001b[0m \u001b[32m━━━━━━━━━━━━━━━━━━━━\u001b[0m\u001b[37m\u001b[0m \u001b[1m3s\u001b[0m 3s/step - accuracy: 0.5000 - loss: 0.6933\n",
            "Epoch 2/10\n",
            "\u001b[1m1/1\u001b[0m \u001b[32m━━━━━━━━━━━━━━━━━━━━\u001b[0m\u001b[37m\u001b[0m \u001b[1m0s\u001b[0m 65ms/step - accuracy: 0.5000 - loss: 0.6929\n",
            "Epoch 3/10\n",
            "\u001b[1m1/1\u001b[0m \u001b[32m━━━━━━━━━━━━━━━━━━━━\u001b[0m\u001b[37m\u001b[0m \u001b[1m0s\u001b[0m 58ms/step - accuracy: 0.7500 - loss: 0.6924\n",
            "Epoch 4/10\n",
            "\u001b[1m1/1\u001b[0m \u001b[32m━━━━━━━━━━━━━━━━━━━━\u001b[0m\u001b[37m\u001b[0m \u001b[1m0s\u001b[0m 61ms/step - accuracy: 0.7500 - loss: 0.6920\n",
            "Epoch 5/10\n",
            "\u001b[1m1/1\u001b[0m \u001b[32m━━━━━━━━━━━━━━━━━━━━\u001b[0m\u001b[37m\u001b[0m \u001b[1m0s\u001b[0m 55ms/step - accuracy: 0.7500 - loss: 0.6915\n",
            "Epoch 6/10\n",
            "\u001b[1m1/1\u001b[0m \u001b[32m━━━━━━━━━━━━━━━━━━━━\u001b[0m\u001b[37m\u001b[0m \u001b[1m0s\u001b[0m 58ms/step - accuracy: 0.7500 - loss: 0.6911\n",
            "Epoch 7/10\n",
            "\u001b[1m1/1\u001b[0m \u001b[32m━━━━━━━━━━━━━━━━━━━━\u001b[0m\u001b[37m\u001b[0m \u001b[1m0s\u001b[0m 59ms/step - accuracy: 0.7500 - loss: 0.6906\n",
            "Epoch 8/10\n",
            "\u001b[1m1/1\u001b[0m \u001b[32m━━━━━━━━━━━━━━━━━━━━\u001b[0m\u001b[37m\u001b[0m \u001b[1m0s\u001b[0m 53ms/step - accuracy: 0.7500 - loss: 0.6900\n",
            "Epoch 9/10\n",
            "\u001b[1m1/1\u001b[0m \u001b[32m━━━━━━━━━━━━━━━━━━━━\u001b[0m\u001b[37m\u001b[0m \u001b[1m0s\u001b[0m 55ms/step - accuracy: 0.7500 - loss: 0.6895\n",
            "Epoch 10/10\n",
            "\u001b[1m1/1\u001b[0m \u001b[32m━━━━━━━━━━━━━━━━━━━━\u001b[0m\u001b[37m\u001b[0m \u001b[1m0s\u001b[0m 59ms/step - accuracy: 0.7500 - loss: 0.6889\n"
          ]
        },
        {
          "output_type": "execute_result",
          "data": {
            "text/plain": [
              "<keras.src.callbacks.history.History at 0x7f2eecb3ea90>"
            ]
          },
          "metadata": {},
          "execution_count": 18
        }
      ]
    },
    {
      "cell_type": "markdown",
      "source": [
        "It tokenizes the input documents, converts them to sequences, and paths the sequences to ensure equal length. The LSTM layer captures sequential information and the final dense layer produces binary classification predictions."
      ],
      "metadata": {
        "id": "0ikSjo8XVeFT"
      }
    },
    {
      "cell_type": "markdown",
      "source": [
        "LSTM (Long Short-Term Memory) networks are a type of recurrent neural network (RNN) designed to capture sequential dependencies in text. Here's a breakdown of its architecture:\n",
        "\n",
        "Cells: LSTMs consist of a series of cells, each responsible for maintaining the cell state and hidden state.\n",
        "Gates: Each cell has three gates to control the flow of information:\n",
        "Forget Gate: Decides what information to discard from the cell state.\n",
        "Input Gate: Determines what new information to add to the cell state.\n",
        "Output Gate: Controls the output based on the cell state and the input.\n",
        "\n",
        "\n",
        "These gates help LSTMs manage long-term dependencies and prevent issues like vanishing or exploding gradients, making them effective for tasks like text classification and sentiment analysis.\n",
        "\n",
        "![image.png](data:image/png;base64,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)"
      ],
      "metadata": {
        "id": "qV1nOSj9WPcy"
      }
    }
  ]
}