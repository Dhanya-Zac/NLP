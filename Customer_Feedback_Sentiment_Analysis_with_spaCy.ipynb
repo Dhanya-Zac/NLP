{
  "nbformat": 4,
  "nbformat_minor": 0,
  "metadata": {
    "colab": {
      "provenance": [],
      "authorship_tag": "ABX9TyPgH7m2M+U6/e75TZHxPt6j",
      "include_colab_link": true
    },
    "kernelspec": {
      "name": "python3",
      "display_name": "Python 3"
    },
    "language_info": {
      "name": "python"
    }
  },
  "cells": [
    {
      "cell_type": "markdown",
      "metadata": {
        "id": "view-in-github",
        "colab_type": "text"
      },
      "source": [
        "<a href=\"https://colab.research.google.com/github/Dhanya-Zac/NLP/blob/main/Customer_Feedback_Sentiment_Analysis_with_spaCy.ipynb\" target=\"_parent\"><img src=\"https://colab.research.google.com/assets/colab-badge.svg\" alt=\"Open In Colab\"/></a>"
      ]
    },
    {
      "cell_type": "code",
      "execution_count": 1,
      "metadata": {
        "id": "N64GGCbCQR_T"
      },
      "outputs": [],
      "source": [
        "import spacy\n",
        "from textblob import TextBlob\n",
        "import pandas as pd\n",
        "import csv\n",
        "\n",
        "import seaborn as sns\n",
        "import matplotlib.pyplot as plt"
      ]
    },
    {
      "cell_type": "code",
      "source": [
        "# Load the English NLP model\n",
        "nlp = spacy.load(\"en_core_web_sm\")\n",
        "\n",
        "\n",
        "#Define the path to the file containing feedback\n",
        "file_path = '/content/feedback_data.csv'\n"
      ],
      "metadata": {
        "id": "c7sc37lTRACM"
      },
      "execution_count": 2,
      "outputs": []
    },
    {
      "cell_type": "code",
      "source": [
        "with open(output_csv_path, \"w\", newline=\"\", encoding=\"utf-8\") as csv_file:\n",
        "    csv_writer = csv.writer(csv_file)\n",
        "    csv_writer.writerow(csv_header)\n",
        "\n",
        "\n",
        "    for idx, narrative in enumerate(feedback_data, start=1):\n",
        "        print(f\"\\nProcessing Feedback {idx}:\")\n",
        "        print(\"------------------------------\")\n",
        "        print(narrative.strip())\n",
        "\n",
        "        doc = nlp(narrative)\n",
        "\n",
        "        blob = TextBlob(narrative)\n",
        "        sentiment_polarity = blob.sentiment.polarity\n",
        "        sentiment_subjectivity = blob.sentiment.subjectivity\n",
        "        print(f\"Sentiment: {sentiment_polarity} (Polarity), {sentiment_subjectivity} (Subjectivity)\")\n",
        "\n",
        "        entities = [(ent.text, ent.label_) for ent in doc.ents]\n",
        "        print(\"Named Entities:\", entities)\n",
        "\n",
        "        preferred_contact_method = \"chat\" if \"email\" not in narrative.lower() else \"email\"\n",
        "        print(f\"Preferred Contact Method: {preferred_contact_method}\")\n",
        "\n",
        "        csv_writer.writerow([idx, sentiment_polarity, sentiment_subjectivity, entities, preferred_contact_method])\n",
        "\n"
      ],
      "metadata": {
        "colab": {
          "base_uri": "https://localhost:8080/"
        },
        "id": "H3HBothqRau_",
        "outputId": "24f76dc0-0078-4d3a-d179-25ea993b5f96"
      },
      "execution_count": 20,
      "outputs": [
        {
          "output_type": "stream",
          "name": "stdout",
          "text": [
            "\n",
            "Processing Feedback 1:\n",
            "------------------------------\n",
            "Your products are excellent. I really love the quality! However, delivery to my location in Los Angeles was a bit slow. abbey@email.com\n",
            "Sentiment: 0.44166666666666665 (Polarity), 0.6666666666666666 (Subjectivity)\n",
            "Named Entities: [('Los Angeles', 'GPE')]\n",
            "Preferred Contact Method: email\n",
            "\n",
            "Processing Feedback 2:\n",
            "------------------------------\n",
            "The customer service team in New York was helpful in resolving my issue. I appreciate the assistance. brian@email.com\n",
            "Sentiment: 0.13636363636363635 (Polarity), 0.45454545454545453 (Subjectivity)\n",
            "Named Entities: [('New York', 'GPE')]\n",
            "Preferred Contact Method: email\n",
            "\n",
            "Processing Feedback 3:\n",
            "------------------------------\n",
            "The new features in the latest release are fantastic! They have greatly improved the user experience in San Francisco.\n",
            "Sentiment: 0.48409090909090907 (Polarity), 0.7511363636363636 (Subjectivity)\n",
            "Named Entities: [('San Francisco', 'GPE')]\n",
            "Preferred Contact Method: chat\n",
            "\n",
            "Processing Feedback 4:\n",
            "------------------------------\n",
            "The product didn't meet my expectations, and I'm disappointed. I hope you can address the issues in Chicago. My email address is emailme@email.com\n",
            "Sentiment: -0.75 (Polarity), 0.75 (Subjectivity)\n",
            "Named Entities: [('Chicago', 'GPE')]\n",
            "Preferred Contact Method: email\n"
          ]
        }
      ]
    },
    {
      "cell_type": "code",
      "source": [
        "# Load data into a Pandas DataFrame\n",
        "df = pd.read_csv('/content/feedback_analysis_results.csv')\n",
        "\n",
        "# Display the DataFrame\n",
        "df.head()"
      ],
      "metadata": {
        "colab": {
          "base_uri": "https://localhost:8080/",
          "height": 175
        },
        "id": "772Dd4srTwKp",
        "outputId": "7c5fe48d-6aac-4b65-cc02-d3f87637674f"
      },
      "execution_count": 21,
      "outputs": [
        {
          "output_type": "execute_result",
          "data": {
            "text/plain": [
              "   Feedback Index  Sentiment Polarity  Sentiment Subjectivity  \\\n",
              "0               1            0.441667                0.666667   \n",
              "1               2            0.136364                0.454545   \n",
              "2               3            0.484091                0.751136   \n",
              "3               4           -0.750000                0.750000   \n",
              "\n",
              "               Named Entities Preferred Contact Method  \n",
              "0    [('Los Angeles', 'GPE')]                    email  \n",
              "1       [('New York', 'GPE')]                    email  \n",
              "2  [('San Francisco', 'GPE')]                     chat  \n",
              "3        [('Chicago', 'GPE')]                    email  "
            ],
            "text/html": [
              "\n",
              "  <div id=\"df-4012beac-3385-4142-ab20-8af462172928\" class=\"colab-df-container\">\n",
              "    <div>\n",
              "<style scoped>\n",
              "    .dataframe tbody tr th:only-of-type {\n",
              "        vertical-align: middle;\n",
              "    }\n",
              "\n",
              "    .dataframe tbody tr th {\n",
              "        vertical-align: top;\n",
              "    }\n",
              "\n",
              "    .dataframe thead th {\n",
              "        text-align: right;\n",
              "    }\n",
              "</style>\n",
              "<table border=\"1\" class=\"dataframe\">\n",
              "  <thead>\n",
              "    <tr style=\"text-align: right;\">\n",
              "      <th></th>\n",
              "      <th>Feedback Index</th>\n",
              "      <th>Sentiment Polarity</th>\n",
              "      <th>Sentiment Subjectivity</th>\n",
              "      <th>Named Entities</th>\n",
              "      <th>Preferred Contact Method</th>\n",
              "    </tr>\n",
              "  </thead>\n",
              "  <tbody>\n",
              "    <tr>\n",
              "      <th>0</th>\n",
              "      <td>1</td>\n",
              "      <td>0.441667</td>\n",
              "      <td>0.666667</td>\n",
              "      <td>[('Los Angeles', 'GPE')]</td>\n",
              "      <td>email</td>\n",
              "    </tr>\n",
              "    <tr>\n",
              "      <th>1</th>\n",
              "      <td>2</td>\n",
              "      <td>0.136364</td>\n",
              "      <td>0.454545</td>\n",
              "      <td>[('New York', 'GPE')]</td>\n",
              "      <td>email</td>\n",
              "    </tr>\n",
              "    <tr>\n",
              "      <th>2</th>\n",
              "      <td>3</td>\n",
              "      <td>0.484091</td>\n",
              "      <td>0.751136</td>\n",
              "      <td>[('San Francisco', 'GPE')]</td>\n",
              "      <td>chat</td>\n",
              "    </tr>\n",
              "    <tr>\n",
              "      <th>3</th>\n",
              "      <td>4</td>\n",
              "      <td>-0.750000</td>\n",
              "      <td>0.750000</td>\n",
              "      <td>[('Chicago', 'GPE')]</td>\n",
              "      <td>email</td>\n",
              "    </tr>\n",
              "  </tbody>\n",
              "</table>\n",
              "</div>\n",
              "    <div class=\"colab-df-buttons\">\n",
              "\n",
              "  <div class=\"colab-df-container\">\n",
              "    <button class=\"colab-df-convert\" onclick=\"convertToInteractive('df-4012beac-3385-4142-ab20-8af462172928')\"\n",
              "            title=\"Convert this dataframe to an interactive table.\"\n",
              "            style=\"display:none;\">\n",
              "\n",
              "  <svg xmlns=\"http://www.w3.org/2000/svg\" height=\"24px\" viewBox=\"0 -960 960 960\">\n",
              "    <path d=\"M120-120v-720h720v720H120Zm60-500h600v-160H180v160Zm220 220h160v-160H400v160Zm0 220h160v-160H400v160ZM180-400h160v-160H180v160Zm440 0h160v-160H620v160ZM180-180h160v-160H180v160Zm440 0h160v-160H620v160Z\"/>\n",
              "  </svg>\n",
              "    </button>\n",
              "\n",
              "  <style>\n",
              "    .colab-df-container {\n",
              "      display:flex;\n",
              "      gap: 12px;\n",
              "    }\n",
              "\n",
              "    .colab-df-convert {\n",
              "      background-color: #E8F0FE;\n",
              "      border: none;\n",
              "      border-radius: 50%;\n",
              "      cursor: pointer;\n",
              "      display: none;\n",
              "      fill: #1967D2;\n",
              "      height: 32px;\n",
              "      padding: 0 0 0 0;\n",
              "      width: 32px;\n",
              "    }\n",
              "\n",
              "    .colab-df-convert:hover {\n",
              "      background-color: #E2EBFA;\n",
              "      box-shadow: 0px 1px 2px rgba(60, 64, 67, 0.3), 0px 1px 3px 1px rgba(60, 64, 67, 0.15);\n",
              "      fill: #174EA6;\n",
              "    }\n",
              "\n",
              "    .colab-df-buttons div {\n",
              "      margin-bottom: 4px;\n",
              "    }\n",
              "\n",
              "    [theme=dark] .colab-df-convert {\n",
              "      background-color: #3B4455;\n",
              "      fill: #D2E3FC;\n",
              "    }\n",
              "\n",
              "    [theme=dark] .colab-df-convert:hover {\n",
              "      background-color: #434B5C;\n",
              "      box-shadow: 0px 1px 3px 1px rgba(0, 0, 0, 0.15);\n",
              "      filter: drop-shadow(0px 1px 2px rgba(0, 0, 0, 0.3));\n",
              "      fill: #FFFFFF;\n",
              "    }\n",
              "  </style>\n",
              "\n",
              "    <script>\n",
              "      const buttonEl =\n",
              "        document.querySelector('#df-4012beac-3385-4142-ab20-8af462172928 button.colab-df-convert');\n",
              "      buttonEl.style.display =\n",
              "        google.colab.kernel.accessAllowed ? 'block' : 'none';\n",
              "\n",
              "      async function convertToInteractive(key) {\n",
              "        const element = document.querySelector('#df-4012beac-3385-4142-ab20-8af462172928');\n",
              "        const dataTable =\n",
              "          await google.colab.kernel.invokeFunction('convertToInteractive',\n",
              "                                                    [key], {});\n",
              "        if (!dataTable) return;\n",
              "\n",
              "        const docLinkHtml = 'Like what you see? Visit the ' +\n",
              "          '<a target=\"_blank\" href=https://colab.research.google.com/notebooks/data_table.ipynb>data table notebook</a>'\n",
              "          + ' to learn more about interactive tables.';\n",
              "        element.innerHTML = '';\n",
              "        dataTable['output_type'] = 'display_data';\n",
              "        await google.colab.output.renderOutput(dataTable, element);\n",
              "        const docLink = document.createElement('div');\n",
              "        docLink.innerHTML = docLinkHtml;\n",
              "        element.appendChild(docLink);\n",
              "      }\n",
              "    </script>\n",
              "  </div>\n",
              "\n",
              "\n",
              "    <div id=\"df-a8953e7d-5700-43f3-98b3-b5bee9a89beb\">\n",
              "      <button class=\"colab-df-quickchart\" onclick=\"quickchart('df-a8953e7d-5700-43f3-98b3-b5bee9a89beb')\"\n",
              "                title=\"Suggest charts\"\n",
              "                style=\"display:none;\">\n",
              "\n",
              "<svg xmlns=\"http://www.w3.org/2000/svg\" height=\"24px\"viewBox=\"0 0 24 24\"\n",
              "     width=\"24px\">\n",
              "    <g>\n",
              "        <path d=\"M19 3H5c-1.1 0-2 .9-2 2v14c0 1.1.9 2 2 2h14c1.1 0 2-.9 2-2V5c0-1.1-.9-2-2-2zM9 17H7v-7h2v7zm4 0h-2V7h2v10zm4 0h-2v-4h2v4z\"/>\n",
              "    </g>\n",
              "</svg>\n",
              "      </button>\n",
              "\n",
              "<style>\n",
              "  .colab-df-quickchart {\n",
              "      --bg-color: #E8F0FE;\n",
              "      --fill-color: #1967D2;\n",
              "      --hover-bg-color: #E2EBFA;\n",
              "      --hover-fill-color: #174EA6;\n",
              "      --disabled-fill-color: #AAA;\n",
              "      --disabled-bg-color: #DDD;\n",
              "  }\n",
              "\n",
              "  [theme=dark] .colab-df-quickchart {\n",
              "      --bg-color: #3B4455;\n",
              "      --fill-color: #D2E3FC;\n",
              "      --hover-bg-color: #434B5C;\n",
              "      --hover-fill-color: #FFFFFF;\n",
              "      --disabled-bg-color: #3B4455;\n",
              "      --disabled-fill-color: #666;\n",
              "  }\n",
              "\n",
              "  .colab-df-quickchart {\n",
              "    background-color: var(--bg-color);\n",
              "    border: none;\n",
              "    border-radius: 50%;\n",
              "    cursor: pointer;\n",
              "    display: none;\n",
              "    fill: var(--fill-color);\n",
              "    height: 32px;\n",
              "    padding: 0;\n",
              "    width: 32px;\n",
              "  }\n",
              "\n",
              "  .colab-df-quickchart:hover {\n",
              "    background-color: var(--hover-bg-color);\n",
              "    box-shadow: 0 1px 2px rgba(60, 64, 67, 0.3), 0 1px 3px 1px rgba(60, 64, 67, 0.15);\n",
              "    fill: var(--button-hover-fill-color);\n",
              "  }\n",
              "\n",
              "  .colab-df-quickchart-complete:disabled,\n",
              "  .colab-df-quickchart-complete:disabled:hover {\n",
              "    background-color: var(--disabled-bg-color);\n",
              "    fill: var(--disabled-fill-color);\n",
              "    box-shadow: none;\n",
              "  }\n",
              "\n",
              "  .colab-df-spinner {\n",
              "    border: 2px solid var(--fill-color);\n",
              "    border-color: transparent;\n",
              "    border-bottom-color: var(--fill-color);\n",
              "    animation:\n",
              "      spin 1s steps(1) infinite;\n",
              "  }\n",
              "\n",
              "  @keyframes spin {\n",
              "    0% {\n",
              "      border-color: transparent;\n",
              "      border-bottom-color: var(--fill-color);\n",
              "      border-left-color: var(--fill-color);\n",
              "    }\n",
              "    20% {\n",
              "      border-color: transparent;\n",
              "      border-left-color: var(--fill-color);\n",
              "      border-top-color: var(--fill-color);\n",
              "    }\n",
              "    30% {\n",
              "      border-color: transparent;\n",
              "      border-left-color: var(--fill-color);\n",
              "      border-top-color: var(--fill-color);\n",
              "      border-right-color: var(--fill-color);\n",
              "    }\n",
              "    40% {\n",
              "      border-color: transparent;\n",
              "      border-right-color: var(--fill-color);\n",
              "      border-top-color: var(--fill-color);\n",
              "    }\n",
              "    60% {\n",
              "      border-color: transparent;\n",
              "      border-right-color: var(--fill-color);\n",
              "    }\n",
              "    80% {\n",
              "      border-color: transparent;\n",
              "      border-right-color: var(--fill-color);\n",
              "      border-bottom-color: var(--fill-color);\n",
              "    }\n",
              "    90% {\n",
              "      border-color: transparent;\n",
              "      border-bottom-color: var(--fill-color);\n",
              "    }\n",
              "  }\n",
              "</style>\n",
              "\n",
              "      <script>\n",
              "        async function quickchart(key) {\n",
              "          const quickchartButtonEl =\n",
              "            document.querySelector('#' + key + ' button');\n",
              "          quickchartButtonEl.disabled = true;  // To prevent multiple clicks.\n",
              "          quickchartButtonEl.classList.add('colab-df-spinner');\n",
              "          try {\n",
              "            const charts = await google.colab.kernel.invokeFunction(\n",
              "                'suggestCharts', [key], {});\n",
              "          } catch (error) {\n",
              "            console.error('Error during call to suggestCharts:', error);\n",
              "          }\n",
              "          quickchartButtonEl.classList.remove('colab-df-spinner');\n",
              "          quickchartButtonEl.classList.add('colab-df-quickchart-complete');\n",
              "        }\n",
              "        (() => {\n",
              "          let quickchartButtonEl =\n",
              "            document.querySelector('#df-a8953e7d-5700-43f3-98b3-b5bee9a89beb button');\n",
              "          quickchartButtonEl.style.display =\n",
              "            google.colab.kernel.accessAllowed ? 'block' : 'none';\n",
              "        })();\n",
              "      </script>\n",
              "    </div>\n",
              "\n",
              "    </div>\n",
              "  </div>\n"
            ],
            "application/vnd.google.colaboratory.intrinsic+json": {
              "type": "dataframe",
              "variable_name": "df",
              "summary": "{\n  \"name\": \"df\",\n  \"rows\": 4,\n  \"fields\": [\n    {\n      \"column\": \"Feedback Index\",\n      \"properties\": {\n        \"dtype\": \"number\",\n        \"std\": 1,\n        \"min\": 1,\n        \"max\": 4,\n        \"num_unique_values\": 4,\n        \"samples\": [\n          2,\n          4,\n          1\n        ],\n        \"semantic_type\": \"\",\n        \"description\": \"\"\n      }\n    },\n    {\n      \"column\": \"Sentiment Polarity\",\n      \"properties\": {\n        \"dtype\": \"number\",\n        \"std\": 0.5733392193304117,\n        \"min\": -0.75,\n        \"max\": 0.484090909090909,\n        \"num_unique_values\": 4,\n        \"samples\": [\n          0.1363636363636363,\n          -0.75,\n          0.4416666666666666\n        ],\n        \"semantic_type\": \"\",\n        \"description\": \"\"\n      }\n    },\n    {\n      \"column\": \"Sentiment Subjectivity\",\n      \"properties\": {\n        \"dtype\": \"number\",\n        \"std\": 0.13974256983521738,\n        \"min\": 0.4545454545454545,\n        \"max\": 0.7511363636363636,\n        \"num_unique_values\": 4,\n        \"samples\": [\n          0.4545454545454545,\n          0.75,\n          0.6666666666666666\n        ],\n        \"semantic_type\": \"\",\n        \"description\": \"\"\n      }\n    },\n    {\n      \"column\": \"Named Entities\",\n      \"properties\": {\n        \"dtype\": \"string\",\n        \"num_unique_values\": 4,\n        \"samples\": [\n          \"[('New York', 'GPE')]\",\n          \"[('Chicago', 'GPE')]\",\n          \"[('Los Angeles', 'GPE')]\"\n        ],\n        \"semantic_type\": \"\",\n        \"description\": \"\"\n      }\n    },\n    {\n      \"column\": \"Preferred Contact Method\",\n      \"properties\": {\n        \"dtype\": \"string\",\n        \"num_unique_values\": 2,\n        \"samples\": [\n          \"chat\",\n          \"email\"\n        ],\n        \"semantic_type\": \"\",\n        \"description\": \"\"\n      }\n    }\n  ]\n}"
            }
          },
          "metadata": {},
          "execution_count": 21
        }
      ]
    },
    {
      "cell_type": "code",
      "source": [
        "df.info()"
      ],
      "metadata": {
        "colab": {
          "base_uri": "https://localhost:8080/"
        },
        "id": "LJsohe77TzXT",
        "outputId": "90d7dd28-f213-4472-e65b-b501376a4930"
      },
      "execution_count": 22,
      "outputs": [
        {
          "output_type": "stream",
          "name": "stdout",
          "text": [
            "<class 'pandas.core.frame.DataFrame'>\n",
            "RangeIndex: 4 entries, 0 to 3\n",
            "Data columns (total 5 columns):\n",
            " #   Column                    Non-Null Count  Dtype  \n",
            "---  ------                    --------------  -----  \n",
            " 0   Feedback Index            4 non-null      int64  \n",
            " 1   Sentiment Polarity        4 non-null      float64\n",
            " 2   Sentiment Subjectivity    4 non-null      float64\n",
            " 3   Named Entities            4 non-null      object \n",
            " 4   Preferred Contact Method  4 non-null      object \n",
            "dtypes: float64(2), int64(1), object(2)\n",
            "memory usage: 292.0+ bytes\n"
          ]
        }
      ]
    },
    {
      "cell_type": "code",
      "source": [
        "\n",
        "# Example plot: Preferred Contact Method Count\n",
        "plt.figure(figsize=(10, 6))\n",
        "sns.countplot(data=df, x='Preferred Contact Method', palette='muted')\n",
        "plt.title('Preferred Contact Method Count')\n",
        "plt.xlabel('Preferred Contact Method')\n",
        "plt.ylabel('Count')\n",
        "plt.show()"
      ],
      "metadata": {
        "colab": {
          "base_uri": "https://localhost:8080/",
          "height": 676
        },
        "id": "2IEkcUX1T5eY",
        "outputId": "461e2098-be60-423a-d2f1-23c97cbfa757"
      },
      "execution_count": 23,
      "outputs": [
        {
          "output_type": "stream",
          "name": "stderr",
          "text": [
            "/tmp/ipython-input-23-3938032043.py:3: FutureWarning: \n",
            "\n",
            "Passing `palette` without assigning `hue` is deprecated and will be removed in v0.14.0. Assign the `x` variable to `hue` and set `legend=False` for the same effect.\n",
            "\n",
            "  sns.countplot(data=df, x='Preferred Contact Method', palette='muted')\n"
          ]
        },
        {
          "output_type": "display_data",
          "data": {
            "text/plain": [
              "<Figure size 1000x600 with 1 Axes>"
            ],
            "image/png": "[encoded data removed]"
          },
          "metadata": {}
        }
      ]
    },
    {
      "cell_type": "code",
      "source": [
        "# Pair Plot: Pairwise relationships\n",
        "sns.pairplot(data=df[['Sentiment Polarity', 'Sentiment Subjectivity']],\n",
        "             diag_kind='kde')\n",
        "plt.suptitle('Pair Plot: Pairwise relationships')\n",
        "plt.show()"
      ],
      "metadata": {
        "colab": {
          "base_uri": "https://localhost:8080/",
          "height": 515
        },
        "id": "eVRw8drRT_oY",
        "outputId": "36f50027-bfbd-4662-f64c-8565f73bfa7f"
      },
      "execution_count": 24,
      "outputs": [
        {
          "output_type": "display_data",
          "data": {
            "text/plain": [
              "<Figure size 500x500 with 6 Axes>"
            ],
            "image/png": "[encoded data removed]"
          },
          "metadata": {}
        }
      ]
    },
    {
      "cell_type": "code",
      "source": [],
      "metadata": {
        "id": "vfKLj4H9UIv8"
      },
      "execution_count": null,
      "outputs": []
    }
  ]
}