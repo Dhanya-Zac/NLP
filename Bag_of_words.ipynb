{
  "nbformat": 4,
  "nbformat_minor": 0,
  "metadata": {
    "colab": {
      "provenance": [],
      "authorship_tag": "ABX9TyPBqaMqxdYZF2b8kcAkfwyA",
      "include_colab_link": true
    },
    "kernelspec": {
      "name": "python3",
      "display_name": "Python 3"
    },
    "language_info": {
      "name": "python"
    }
  },
  "cells": [
    {
      "cell_type": "markdown",
      "metadata": {
        "id": "view-in-github",
        "colab_type": "text"
      },
      "source": [
        "<a href=\"https://colab.research.google.com/github/Dhanya-Zac/NLP/blob/main/Bag_of_words.ipynb\" target=\"_parent\"><img src=\"https://colab.research.google.com/assets/colab-badge.svg\" alt=\"Open In Colab\"/></a>"
      ]
    },
    {
      "cell_type": "code",
      "execution_count": 18,
      "metadata": {
        "id": "6jJwNFT8GcDK"
      },
      "outputs": [],
      "source": [
        "from sklearn.feature_extraction.text import CountVectorizer"
      ]
    },
    {
      "cell_type": "code",
      "source": [
        "#Sample documents\n",
        "documents=[\" This is the first document.\",\"This document is the second document.\",\"And this is the third one.\",\"Is this the first document?\"]"
      ],
      "metadata": {
        "id": "BgtwX9k1HS7-"
      },
      "execution_count": 19,
      "outputs": []
    },
    {
      "cell_type": "markdown",
      "source": [
        "CountVectorizer is used to convert a collection of text documents into a matrix of token counts."
      ],
      "metadata": {
        "id": "M_Dw8JPGJll2"
      }
    },
    {
      "cell_type": "code",
      "source": [
        "#creating an instance of CountVectorizer\n",
        "vectorizer=CountVectorizer()"
      ],
      "metadata": {
        "id": "KIm4EJqCHoE7"
      },
      "execution_count": 20,
      "outputs": []
    },
    {
      "cell_type": "code",
      "source": [
        "#fit and transform documents  into bag of words model matrix\n",
        "X=vectorizer.fit_transform(documents)"
      ],
      "metadata": {
        "id": "PFLNVErQH0A9"
      },
      "execution_count": 21,
      "outputs": []
    },
    {
      "cell_type": "code",
      "source": [
        "X"
      ],
      "metadata": {
        "colab": {
          "base_uri": "https://localhost:8080/"
        },
        "id": "gMDUR39FKUq5",
        "outputId": "3b20d069-1052-4951-965f-929014fb78cf"
      },
      "execution_count": 24,
      "outputs": [
        {
          "output_type": "execute_result",
          "data": {
            "text/plain": [
              "<Compressed Sparse Row sparse matrix of dtype 'int64'\n",
              "\twith 21 stored elements and shape (4, 9)>"
            ]
          },
          "metadata": {},
          "execution_count": 24
        }
      ]
    },
    {
      "cell_type": "code",
      "source": [
        "#get feature ames(words in  vocabulary)\n",
        "feature_names=vectorizer.get_feature_names_out()"
      ],
      "metadata": {
        "id": "WD0oR2ntIIt8"
      },
      "execution_count": 17,
      "outputs": []
    },
    {
      "cell_type": "markdown",
      "source": [
        "Bag of words represents a document as an unordered set of words and discards any information about the order or structure of the words in the document.\n",
        "\n",
        "The values in the matrix represent the count of each word in the corresponding document.\n",
        "\n",
        "Each row in the matrix represents a document and each column represents a word from the vocabulary."
      ],
      "metadata": {
        "id": "qjtgcBD0Jc2m"
      }
    },
    {
      "cell_type": "code",
      "source": [
        "feature_names"
      ],
      "metadata": {
        "colab": {
          "base_uri": "https://localhost:8080/"
        },
        "id": "mDtaH10PJXBs",
        "outputId": "9f4201ea-7927-413a-923c-5b511756ed91"
      },
      "execution_count": 22,
      "outputs": [
        {
          "output_type": "execute_result",
          "data": {
            "text/plain": [
              "array(['and', 'document', 'first', 'is', 'one', 'second', 'the', 'third',\n",
              "       'this'], dtype=object)"
            ]
          },
          "metadata": {},
          "execution_count": 22
        }
      ]
    },
    {
      "cell_type": "markdown",
      "source": [
        "Different traditional NLP approaches are Linguistic Rules: These are manually created rules based on the structure and grammar of a language to process and understand text ( rule: a verb follows a noun).
Handcrafted Features: Features manually designed by experts to capture important aspects of the text, such as word frequency or part-of-speech tags.
Statistical Models: Models that use statistical methods to analyze and interpret text data. An example is the bag of words model, which represents a document as an unordered set of words, ignoring the order and structure of the words. It loses information about the order and context of words."
      ],
      "metadata": {
        "id": "WBiYZAC8K_OP"
      }
    },
    {
      "cell_type": "markdown",
      "source": [
        "![image.png](data:image/png;base64,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)"
      ],
      "metadata": {
        "id": "mYJeqi_cK3NZ"
      }
    }
  ]
}
